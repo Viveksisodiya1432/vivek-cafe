{
 "cells": [
  {
   "cell_type": "code",
   "execution_count": 1,
   "metadata": {},
   "outputs": [],
   "source": [
    "db=[]\n"
   ]
  },
  {
   "cell_type": "code",
   "execution_count": 2,
   "metadata": {},
   "outputs": [],
   "source": [
    "\n",
    "\n",
    "db.append({\"sno\":1,\"product\":\"samosa\",\"quantity\":10,\"sales\":5,\"unit\":12})\n"
   ]
  },
  {
   "cell_type": "code",
   "execution_count": 3,
   "metadata": {},
   "outputs": [],
   "source": [
    "\n",
    "\n",
    "db.append({\"sno\":2,\"product\":\"vadapav\",\"quantity\":100,\"sales\":50,\"unit\":10})"
   ]
  },
  {
   "cell_type": "code",
   "execution_count": 4,
   "metadata": {},
   "outputs": [],
   "source": [
    "db.append({\"sno\":3,\"product\":\"vadapav\",\"quantity\":100,\"sales\":50,\"unit\":10})"
   ]
  },
  {
   "cell_type": "code",
   "execution_count": 5,
   "metadata": {},
   "outputs": [],
   "source": [
    "db.append({\"sno\":4,\"product\":\"vadapav\",\"quantity\":100,\"sales\":50,\"unit\":10})"
   ]
  },
  {
   "cell_type": "code",
   "execution_count": 6,
   "metadata": {},
   "outputs": [],
   "source": [
    "db.append({\"sno\":5,\"product\":\"vadapav\",\"quantity\":100,\"sales\":50,\"unit\":10})"
   ]
  },
  {
   "cell_type": "code",
   "execution_count": 7,
   "metadata": {},
   "outputs": [
    {
     "name": "stdout",
     "output_type": "stream",
     "text": [
      "[{'sno': 1, 'product': 'samosa', 'quantity': 10, 'sales': 5, 'unit': 12}, {'sno': 2, 'product': 'vadapav', 'quantity': 100, 'sales': 50, 'unit': 10}, {'sno': 3, 'product': 'vadapav', 'quantity': 100, 'sales': 50, 'unit': 10}, {'sno': 4, 'product': 'vadapav', 'quantity': 100, 'sales': 50, 'unit': 10}, {'sno': 5, 'product': 'vadapav', 'quantity': 100, 'sales': 50, 'unit': 10}]\n"
     ]
    }
   ],
   "source": [
    "print(db)"
   ]
  },
  {
   "cell_type": "code",
   "execution_count": 8,
   "metadata": {},
   "outputs": [
    {
     "name": "stdout",
     "output_type": "stream",
     "text": [
      "{'sno': 1, 'product': 'samosa', 'quantity': 10, 'sales': 5, 'unit': 12}\n",
      "{'sno': 2, 'product': 'vadapav', 'quantity': 100, 'sales': 50, 'unit': 10}\n",
      "{'sno': 3, 'product': 'vadapav', 'quantity': 100, 'sales': 50, 'unit': 10}\n",
      "{'sno': 4, 'product': 'vadapav', 'quantity': 100, 'sales': 50, 'unit': 10}\n",
      "{'sno': 5, 'product': 'vadapav', 'quantity': 100, 'sales': 50, 'unit': 10}\n"
     ]
    }
   ],
   "source": [
    "for i in db:\n",
    "    print(i)"
   ]
  },
  {
   "cell_type": "code",
   "execution_count": null,
   "metadata": {},
   "outputs": [],
   "source": []
  }
 ],
 "metadata": {
  "kernelspec": {
   "display_name": "Python 3",
   "language": "python",
   "name": "python3"
  },
  "language_info": {
   "codemirror_mode": {
    "name": "ipython",
    "version": 3
   },
   "file_extension": ".py",
   "mimetype": "text/x-python",
   "name": "python",
   "nbconvert_exporter": "python",
   "pygments_lexer": "ipython3",
   "version": "3.12.3"
  }
 },
 "nbformat": 4,
 "nbformat_minor": 2
}
